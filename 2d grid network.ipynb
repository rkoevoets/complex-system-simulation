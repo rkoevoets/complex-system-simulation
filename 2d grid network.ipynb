{
 "cells": [
  {
   "cell_type": "code",
   "execution_count": 1,
   "metadata": {},
   "outputs": [],
   "source": [
    "import networkx as nx\n",
    "import random\n",
    "import numpy as np\n",
    "import matplotlib.pyplot as plt\n",
    "from scipy.optimize import curve_fit\n",
    "from main_numpy import NeuronModel"
   ]
  },
  {
   "cell_type": "code",
   "execution_count": 2,
   "metadata": {},
   "outputs": [],
   "source": [
    "def create_2d_grid_graph(rows, columns):\n",
    "    \"\"\"Returns network as 2D grid graph and nodes on the periphery are connected to sink\"\"\"\n",
    "    grid_graph = nx.grid_2d_graph(rows, columns)\n",
    "    converted_graph = nx.convert_node_labels_to_integers(grid_graph)\n",
    "    converted_graph.add_node(-1)  # Add sink node\n",
    "\n",
    "    for node in converted_graph.nodes():\n",
    "        if converted_graph.degree(node) < 4:\n",
    "            converted_graph.add_edge(node, -1)  # Add edge to sink node\n",
    "\n",
    "    return converted_graph"
   ]
  },
  {
   "cell_type": "code",
   "execution_count": 3,
   "metadata": {},
   "outputs": [],
   "source": [
    "rows = 10\n",
    "columns = 10\n",
    "\n",
    "grid_network = create_2d_grid_graph(rows, columns)\n",
    "grid_network_model = NeuronModel(grid_network)   \n",
    "grid_network_data = np.array(grid_network_model.run(100000))  # number of steps"
   ]
  },
  {
   "cell_type": "code",
   "execution_count": null,
   "metadata": {},
   "outputs": [],
   "source": [
    "norm_grid_network_data = [aval_size/max(grid_network_data) for aval_size in grid_network_data] #to scale data\n",
    "\n",
    "plt.figure()\n",
    "plt.plot(norm_grid_network_data)\n",
    "\n",
    "# Add labels and title\n",
    "plt.xlabel('time step')\n",
    "plt.ylabel('Scaled Avalanche size')\n",
    "plt.title('2D grid graph: Time series')\n",
    "\n",
    "# Show the plot\n",
    "plt.show()   "
   ]
  },
  {
   "cell_type": "code",
   "execution_count": 4,
   "metadata": {},
   "outputs": [
    {
     "data": {
      "image/png": "[encoded data removed]",
      "text/plain": [
       "<Figure size 432x288 with 1 Axes>"
      ]
     },
     "metadata": {
      "needs_background": "light"
     },
     "output_type": "display_data"
    }
   ],
   "source": [
    "# Calculate the unique avalanche sizes and their frequencies\n",
    "avalanche_sizes_grid, frequencies_grid = np.unique(grid_network_data, return_counts=True)\n",
    "\n",
    "# Plot the data points on a log-log scale\n",
    "plt.figure()\n",
    "plt.scatter(avalanche_sizes_grid, frequencies_grid)\n",
    "\n",
    "# Set log-log scale\n",
    "plt.xscale('log')\n",
    "plt.yscale('log')\n",
    "\n",
    "# Add labels and title\n",
    "plt.xlabel('Avalanche Size (log)')\n",
    "plt.ylabel('Frequency (log)')\n",
    "plt.title('Frequency Distribution of Avalanche Sizes in 2D grid network')\n",
    "\n",
    "# Show the plot\n",
    "plt.show()"
   ]
  }
 ],
 "metadata": {
  "kernelspec": {
   "display_name": "Python 3.9.4 64-bit",
   "language": "python",
   "name": "python3"
  },
  "language_info": {
   "codemirror_mode": {
    "name": "ipython",
    "version": 3
   },
   "file_extension": ".py",
   "mimetype": "text/x-python",
   "name": "python",
   "nbconvert_exporter": "python",
   "pygments_lexer": "ipython3",
   "version": "3.9.4"
  },
  "orig_nbformat": 4,
  "vscode": {
   "interpreter": {
    "hash": "aee8b7b246df8f9039afb4144a1f6fd8d2ca17a180786b69acc140d282b71a49"
   }
  }
 },
 "nbformat": 4,
 "nbformat_minor": 2
}

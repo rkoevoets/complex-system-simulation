{
 "cells": [
  {
   "cell_type": "code",
   "execution_count": 2,
   "metadata": {},
   "outputs": [],
   "source": [
    "import networkx as nx\n",
    "import random\n",
    "import numpy as np\n",
    "import matplotlib.pyplot as plt\n",
    "from scipy.optimize import curve_fit"
   ]
  },
  {
   "cell_type": "code",
   "execution_count": 10,
   "metadata": {},
   "outputs": [],
   "source": [
    "class NeuronModel:\n",
    "    \"\"\"Class containing attributes and methods for the sand-pile model.\n",
    "    \"\"\"\n",
    "    def __init__(self, network, sample_delay=200) -> None:\n",
    "        # Network should have a node with the label -1 which is the sink node\n",
    "        # All nodes should be able to reach the sink node\n",
    "        self.network = network\n",
    "\n",
    "        assert network.has_node(-1), \"Network must contain sink node (label -1)\"\n",
    "        assert nx.ancestors(network, -1) == set(network.nodes).difference({-1,}), \"All nodes must be able to reach the sink node\"\n",
    "\n",
    "        self.size = network.number_of_nodes() - 1  # Without the sink node\n",
    "\n",
    "        self.adj_matrix = nx.adjacency_matrix(self.network, nodelist=[-1] + list(network.nodes)[:-1]).toarray()\n",
    "        self.potentials = np.zeros(self.adj_matrix.shape[0])\n",
    "        self.degrees = np.array([np.sum(self.adj_matrix[i]) for i in range(self.adj_matrix.shape[0])])\n",
    "\n",
    "        self.sample_delay = sample_delay\n",
    "\n",
    "        # Data storage\n",
    "        self.avalanche_sizes = []\n",
    "\n",
    "    def get_node_degree(self, node_i):\n",
    "        return np.sum(self.adj_matrix[node_i])\n",
    "\n",
    "    def topple_node(self, node_i):\n",
    "        new_potentials = np.copy(self.potentials)\n",
    "\n",
    "        # Decrease potential of toppled node\n",
    "        new_potentials[node_i] -= self.get_node_degree(node_i)\n",
    "\n",
    "        # Add one unit of potential to each neighbor\n",
    "        new_potentials[self.adj_matrix[node_i].astype(bool)] += 1\n",
    "\n",
    "        self.potentials = new_potentials\n",
    "\n",
    "    def perform_avalanche(self, start_node):\n",
    "        unstable = np.array([start_node])\n",
    "        curr_node = None\n",
    "        avalanche_size = 0\n",
    "\n",
    "        while unstable.size > 0:\n",
    "            # Pick a random unstable node\n",
    "            random_index = np.random.randint(0, len(unstable))\n",
    "            curr_node = unstable[random_index]\n",
    "\n",
    "            # Topple unstable node\n",
    "            self.topple_node(curr_node)\n",
    "            avalanche_size += 1\n",
    "\n",
    "            unstable = np.arange(self.potentials.size)[self.potentials >= self.degrees][1:]\n",
    "\n",
    "        return avalanche_size\n",
    "\n",
    "    def step(self, iteration) -> None:\n",
    "        # Choose random node (ignore node 0 (sink node))\n",
    "        node_i = np.random.randint(1, self.size + 1)\n",
    "\n",
    "        # Increment potential\n",
    "        self.potentials[node_i] += 1\n",
    "\n",
    "        # Check for instabilities\n",
    "        if self.potentials[node_i] >= self.get_node_degree(node_i):\n",
    "            avalanche_size = self.perform_avalanche(node_i)\n",
    "\n",
    "            if iteration > self.sample_delay:\n",
    "                self.avalanche_sizes.append(avalanche_size)\n",
    "\n",
    "    def run(self, n_steps):\n",
    "        assert self.sample_delay < n_steps, \"Number of steps must be higher than sample delay\"\n",
    "\n",
    "        for i in range(n_steps):\n",
    "            self.step(i)\n",
    "\n",
    "        return np.array(self.avalanche_sizes)\n"
   ]
  },
  {
   "cell_type": "code",
   "execution_count": 11,
   "metadata": {},
   "outputs": [],
   "source": [
    "def create_2d_grid_graph(rows, columns):\n",
    "    \"\"\"Returns network as 2D grid graph and nodes on the periphery are connected to sink\"\"\"\n",
    "    grid_graph = nx.grid_2d_graph(rows, columns)\n",
    "    converted_graph = nx.convert_node_labels_to_integers(grid_graph)\n",
    "    converted_graph.add_node(-1)  # Add sink node\n",
    "\n",
    "    for node in converted_graph.nodes():\n",
    "        if converted_graph.degree(node) < 4:\n",
    "            converted_graph.add_edge(node, -1)  # Add edge to sink node\n",
    "\n",
    "    return converted_graph"
   ]
  },
  {
   "cell_type": "code",
   "execution_count": 15,
   "metadata": {},
   "outputs": [],
   "source": [
    "rows = 10\n",
    "columns = 10\n",
    "\n",
    "grid_network = create_2d_grid_graph(rows, columns)\n",
    "grid_network_model = NeuronModel(grid_network)   \n",
    "grid_network_data = np.array(grid_network_model.run(100000))  # number of steps"
   ]
  },
  {
   "cell_type": "code",
   "execution_count": 16,
   "metadata": {},
   "outputs": [
    {
     "data": {
      "image/png": "[encoded data removed]",
      "text/plain": [
       "<Figure size 432x288 with 1 Axes>"
      ]
     },
     "metadata": {
      "needs_background": "light"
     },
     "output_type": "display_data"
    }
   ],
   "source": [
    "norm_grid_network_data = [aval_size/max(grid_network_data) for aval_size in grid_network_data] #to scale data\n",
    "\n",
    "plt.figure()\n",
    "plt.plot(norm_grid_network_data)\n",
    "\n",
    "# Add labels and title\n",
    "plt.xlabel('time step')\n",
    "plt.ylabel('Scaled Avalanche size')\n",
    "plt.title('2D grid graph: Time series')\n",
    "\n",
    "# Show the plot\n",
    "plt.show()   "
   ]
  },
  {
   "cell_type": "code",
   "execution_count": 17,
   "metadata": {},
   "outputs": [
    {
     "data": {
      "image/png": "[encoded data removed]",
      "text/plain": [
       "<Figure size 432x288 with 1 Axes>"
      ]
     },
     "metadata": {
      "needs_background": "light"
     },
     "output_type": "display_data"
    }
   ],
   "source": [
    "# Calculate the unique avalanche sizes and their frequencies\n",
    "avalanche_sizes_grid, frequencies_grid = np.unique(grid_network_data, return_counts=True)\n",
    "\n",
    "# Plot the data points on a log-log scale\n",
    "plt.figure()\n",
    "plt.scatter(avalanche_sizes_grid, frequencies_grid)\n",
    "\n",
    "# Set log-log scale\n",
    "plt.xscale('log')\n",
    "plt.yscale('log')\n",
    "\n",
    "# Add labels and title\n",
    "plt.xlabel('Avalanche Size (log)')\n",
    "plt.ylabel('Frequency (log)')\n",
    "plt.title('Frequency Distribution of Avalanche Sizes in 2D grid network')\n",
    "\n",
    "# Show the plot\n",
    "plt.show()"
   ]
  }
 ],
 "metadata": {
  "kernelspec": {
   "display_name": "Python 3.9.4 64-bit",
   "language": "python",
   "name": "python3"
  },
  "language_info": {
   "codemirror_mode": {
    "name": "ipython",
    "version": 3
   },
   "file_extension": ".py",
   "mimetype": "text/x-python",
   "name": "python",
   "nbconvert_exporter": "python",
   "pygments_lexer": "ipython3",
   "version": "3.9.4"
  },
  "orig_nbformat": 4,
  "vscode": {
   "interpreter": {
    "hash": "aee8b7b246df8f9039afb4144a1f6fd8d2ca17a180786b69acc140d282b71a49"
   }
  }
 },
 "nbformat": 4,
 "nbformat_minor": 2
}
